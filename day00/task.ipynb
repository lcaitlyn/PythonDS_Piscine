{
 "cells": [
  {
   "cell_type": "code",
   "execution_count": null,
   "metadata": {},
   "outputs": [],
   "source": [
    "s_in_m = 60\n",
    "s_in_h = 60 * s_in_m\n",
    "s_in_d = 24 * s_in_h\n",
    "s_in_w = 7 * s_in_d\n",
    "print ('В одной недели содержиться', s_in_w, 'секунд')"
   ]
  },
  {
   "cell_type": "code",
   "execution_count": null,
   "metadata": {},
   "outputs": [],
   "source": [
    "total_days = 7 * 3\n",
    "total_days // 4 * 2\n",
    "min(total_days % 4, 2)\n",
    "total_hours = 12 * (total_days // 4 * 2 + min (total_days % 4, 2))\n",
    "print (total_hours, 'Ч')"
   ]
  },
  {
   "cell_type": "code",
   "execution_count": null,
   "metadata": {},
   "outputs": [],
   "source": [
    "def time_metric_up (time, metric):\n",
    "    if metric == 'h':\n",
    "        x = 24\n",
    "    elif metric == 'd':\n",
    "        x = 7\n",
    "    else:\n",
    "        x = 60\n",
    "    return time // x, time % x\n",
    "\n",
    "s = int (input ('Введите к-во секунд: '))\n",
    "\n",
    "m, s = time_metric_up(s, 's')\n",
    "h, m = time_metric_up(m, 'm')\n",
    "d, h = time_metric_up(h, 'h')\n",
    "w, d = time_metric_up(d, 'd')\n",
    "print('недель:', w)\n",
    "print('дней:', d)\n",
    "print('часов:', h)\n",
    "print('минут:', m)\n",
    "print('секунд:', s)\n"
   ]
  },
  {
   "cell_type": "code",
   "execution_count": 3,
   "metadata": {},
   "outputs": [
    {
     "name": "stdout",
     "output_type": "stream",
     "text": [
      "Ошибки не выявлены\n"
     ]
    }
   ],
   "source": [
    "def time_metric_down (time, metric, metric_down):\n",
    "    if (metric == 'w' and metric_down == 's'):\n",
    "        x = 7 * 24 * 60 * 60\n",
    "    elif (metric == 'w' and metric_down == 'm'):\n",
    "        x = 7 * 24 * 60\n",
    "    elif (metric == 'w' and metric_down == 'h'):\n",
    "        x = 7 * 24\n",
    "    elif (metric == 'w' and metric_down == 'd'):\n",
    "        x = 7\n",
    "    elif (metric == 'd' and metric_down == 's'):\n",
    "        x = 24 * 60 * 60\n",
    "    elif (metric == 'd' and metric_down == 'm'):\n",
    "        x = 24 * 60\n",
    "    elif (metric == 'd' and metric_down == 'h'):\n",
    "        x = 24\n",
    "    elif (metric == 'h' and metric_down == 's'):\n",
    "        x = 60 * 60\n",
    "    elif (metric == 'h' and metric_down == 'm'):\n",
    "        x = 60\n",
    "    elif (metric == 'm' and metric_down == 's'):\n",
    "        x = 60\n",
    "    else:\n",
    "        x = 1\n",
    "    return time * x\n",
    "\n",
    "if (time_metric_down(10, 'h', 's') == 36000 and time_metric_down(1, 'w', 'd') == 7 and \n",
    "    time_metric_down(1, 'w', 'h') == 168 and time_metric_down(1, 'w', 'm') == 10080 and \n",
    "    time_metric_down(1, 'w', 's') == 604800):\n",
    "    print('Ошибки не выявлены')\n",
    "else:\n",
    "    print('Выявлены ошибки')"
   ]
  },
  {
   "cell_type": "code",
   "execution_count": 8,
   "metadata": {},
   "outputs": [
    {
     "name": "stdout",
     "output_type": "stream",
     "text": [
      "285 ms ± 742 µs per loop (mean ± std. dev. of 7 runs, 1 loop each)\n"
     ]
    }
   ],
   "source": [
    "%%timeit\n",
    "s = [j**2 for j in range (1, 1000001)]"
   ]
  },
  {
   "cell_type": "code",
   "execution_count": 2,
   "metadata": {},
   "outputs": [],
   "source": [
    "import math\n",
    "from timeit import timeit\n",
    "import numpy as np\n",
    "\n",
    "def f1():                        # Функция с циклом for\n",
    "    s_for = []                   # Формирование пустого списка. Список - изменяемый тип данных, предназначенный для\n",
    "                                 # хранения объектов произвольных типов\n",
    "    for j in range(1, 1000001):  # Для переменной j, изменяющейся последовательно от 1 до 1 млн, выполнить\n",
    "        s_for.append(j**2)       # Записать в список последним элементом значение квадрата переменной j\n",
    "    return s_for\n",
    "        \n",
    "def f2():                        # Функция с циклом while\n",
    "    s_while=[]\n",
    "    j = 1                        # Присвоить переменной j значение 1\n",
    "    while j <= 1000000:          # Пока j не превышает 1 млн, выполнять\n",
    "        s_while.append(j**2)\n",
    "        j += 1                   # Увеличить переменную j на единицу\n",
    "    return s_while\n",
    "        \n",
    "def f3():                        # Функция с генератором и умножением\n",
    "    s = [j*j for j in range(1, 1000001)]\n",
    "    return s\n",
    "    \n",
    "def f4():                        # Функция с генератором и возведением в степень\n",
    "    s = [j**2 for j in range(1, 1000001)]\n",
    "    return s\n",
    "    \n",
    "def xx(x):                       # Дополнительная функция, умножающая полученное число само на себя\n",
    "    return x*x\n",
    "\n",
    "def x2(x):                       # Дополнительная функция, возводящая в квадрат полученное число\n",
    "    return x**2\n",
    "    \n",
    "def f5():                        # Функция с генератором и умножением с помощью функции\n",
    "    s = [xx(j) for j in range(1, 1000001)]\n",
    "    return s\n",
    "    \n",
    "def f6():                        # Функция с генератором и возведением в степень с помощью функции\n",
    "    s = [x2(j) for j in range(1, 1000001)]\n",
    "    return s\n",
    "    \n",
    "def f7():                        # Функция с генератором и возведением в степень с помощью функции pow() библиотеки math\n",
    "    s = [math.pow(j,2) for j in range(1, 1000001)]\n",
    "    return s\n",
    "\n",
    "\n",
    "\n",
    "func = ['f1', 'f2', 'f3', 'f4', 'f5', 'f6', 'f7']  # Создание списка имен функций\n",
    "time = []                                          # Создание пустого списка времени выполнения функций\n",
    "# Далее код, который в цикле запускает функции, определяет время их выполнения 100 раз\n",
    "# и записывает результат в список time\n",
    "if __name__ == '__main__':\n",
    "    for j in func:\n",
    "        time.append(timeit(j+'()', setup = 'from __main__ import '+j, number = 100))\n",
    "\n",
    "time = np.array(time)                              # Перевод списка в массив numpy, для удобства вычислений\n",
    "time = time*100/time.max()                         # Определение процента скорости (максимум = 100%)\n",
    "\n",
    "for i, j in zip(func, time): # zip позволяет брать последовательно элементы из разных списков\n",
    "    print(i, '-', j)"
   ]
  },
  {
   "cell_type": "markdown",
   "metadata": {},
   "source": []
  }
 ],
 "metadata": {
  "interpreter": {
   "hash": "e774977668b7c0ae8309835a5187aa7fbf7669e7d0bb59755bc63e573643edcd"
  },
  "kernelspec": {
   "display_name": "Python 3.7.8 64-bit",
   "language": "python",
   "name": "python3"
  },
  "language_info": {
   "codemirror_mode": {
    "name": "ipython",
    "version": 3
   },
   "file_extension": ".py",
   "mimetype": "text/x-python",
   "name": "python",
   "nbconvert_exporter": "python",
   "pygments_lexer": "ipython3",
   "version": "3.10.2"
  },
  "orig_nbformat": 4
 },
 "nbformat": 4,
 "nbformat_minor": 2
}
