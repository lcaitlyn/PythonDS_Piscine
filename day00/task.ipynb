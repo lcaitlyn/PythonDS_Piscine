{
 "cells": [
  {
   "cell_type": "code",
   "execution_count": null,
   "metadata": {},
   "outputs": [],
   "source": [
    "s_in_m = 60\n",
    "s_in_h = 60 * s_in_m\n",
    "s_in_d = 24 * s_in_h\n",
    "s_in_w = 7 * s_in_d\n",
    "print ('В одной недели содержиться', s_in_w, 'секунд')"
   ]
  },
  {
   "cell_type": "code",
   "execution_count": null,
   "metadata": {},
   "outputs": [],
   "source": [
    "total_days = 7 * 3\n",
    "total_days // 4 * 2\n",
    "min(total_days % 4, 2)\n",
    "total_hours = 12 * (total_days // 4 * 2 + min (total_days % 4, 2))\n",
    "print (total_hours, 'Ч')"
   ]
  },
  {
   "cell_type": "code",
   "execution_count": null,
   "metadata": {},
   "outputs": [],
   "source": [
    "def time_metric_up (time, metric):\n",
    "    if metric == 'h':\n",
    "        x = 24\n",
    "    elif metric == 'd':\n",
    "        x = 7\n",
    "    else:\n",
    "        x = 60\n",
    "    return time // x, time % x\n",
    "\n",
    "s = int (input ('Введите к-во секунд: '))\n",
    "\n",
    "m, s = time_metric_up(s, 's')\n",
    "h, m = time_metric_up(m, 'm')\n",
    "d, h = time_metric_up(h, 'h')\n",
    "w, d = time_metric_up(d, 'd')\n",
    "print('недель:', w)\n",
    "print('дней:', d)\n",
    "print('часов:', h)\n",
    "print('минут:', m)\n",
    "print('секунд:', s)\n"
   ]
  },
  {
   "cell_type": "code",
   "execution_count": null,
   "metadata": {},
   "outputs": [],
   "source": [
    "def time_metric_down (time, metric, metric_down):\n",
    "    if (metric == 'w' and metric_down == 's'):\n",
    "        x = 7 * 24 * 60 * 60\n",
    "    elif (metric == 'w' and metric_down == 'm'):\n",
    "        x = 7 * 24 * 60\n",
    "    elif (metric == 'w' and metric_down == 'h'):\n",
    "        x = 7 * 24\n",
    "    elif (metric == 'w' and metric_down == 'd'):\n",
    "        x = 7\n",
    "    elif (metric == 'd' and metric_down == 's'):\n",
    "        x = 24 * 60 * 60\n",
    "    elif (metric == 'd' and metric_down == 'm'):\n",
    "        x = 24 * 60\n",
    "    elif (metric == 'd' and metric_down == 'h'):\n",
    "        x = 24\n",
    "    elif (metric == 'h' and metric_down == 's'):\n",
    "        x = 60 * 60\n",
    "    elif (metric == 'h' and metric_down == 'm'):\n",
    "        x = 60\n",
    "    elif (metric == 'm' and metric_down == 's'):\n",
    "        x = 60\n",
    "    else:\n",
    "        x = 1\n",
    "    return time * x\n",
    "\n",
    "if (time_metric_down(10, 'h', 's') == 36000 and time_metric_down(1, 'w', 'd') == 7 and \n",
    "    time_metric_down(1, 'w', 'h') == 168 and time_metric_down(1, 'w', 'm') == 10080 and \n",
    "    time_metric_down(1, 'w', 's') == 604800):\n",
    "    print('Ошибки не выявлены')\n",
    "else:\n",
    "    print('Выявлены ошибки')"
   ]
  },
  {
   "cell_type": "markdown",
   "metadata": {},
   "source": []
  }
 ],
 "metadata": {
  "interpreter": {
   "hash": "e774977668b7c0ae8309835a5187aa7fbf7669e7d0bb59755bc63e573643edcd"
  },
  "kernelspec": {
   "display_name": "Python 3.7.8 64-bit",
   "language": "python",
   "name": "python3"
  },
  "language_info": {
   "codemirror_mode": {
    "name": "ipython",
    "version": 3
   },
   "file_extension": ".py",
   "mimetype": "text/x-python",
   "name": "python",
   "nbconvert_exporter": "python",
   "pygments_lexer": "ipython3",
   "version": "3.7.8"
  },
  "orig_nbformat": 4
 },
 "nbformat": 4,
 "nbformat_minor": 2
}
